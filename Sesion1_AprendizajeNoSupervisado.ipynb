{
  "nbformat": 4,
  "nbformat_minor": 0,
  "metadata": {
    "accelerator": "GPU",
    "colab": {
      "name": "Sesion1_AprendizajeNoSupervisado.ipynb",
      "provenance": [],
      "collapsed_sections": []
    },
    "kernelspec": {
      "name": "python3",
      "display_name": "Python 3"
    },
    "language_info": {
      "codemirror_mode": {
        "name": "ipython",
        "version": 3
      },
      "file_extension": ".py",
      "mimetype": "text/x-python",
      "name": "python",
      "nbconvert_exporter": "python",
      "pygments_lexer": "ipython3",
      "version": "3.7.1"
    }
  },
  "cells": [
    {
      "cell_type": "markdown",
      "metadata": {
        "id": "RlqcVPrvPV2q",
        "colab_type": "text"
      },
      "source": [
        "## Bienvenidos a al ambiente de ejecución de código Colab!!!"
      ]
    },
    {
      "cell_type": "markdown",
      "metadata": {
        "colab_type": "text",
        "id": "LmIh93thx69V"
      },
      "source": [
        "En el presente ejemplo comenzaremos con un dataset **público** utilizado para la formación de **Machine Learning** denominado Iris dataset que se basa en describir las longitudes del sépalo y pétalo de tres tipos de flores: Setosa, virginica y versicolor. Este dataset es uno de los más básicos y usados para introducirnos en el mundo de la ciencia de datos."
      ]
    },
    {
      "cell_type": "markdown",
      "metadata": {
        "id": "wTigmeodVxKw",
        "colab_type": "text"
      },
      "source": [
        "Podemos ver una breve historia de este dataset [acá](https://es.wikipedia.org/wiki/Conjunto_de_datos_flor_iris)"
      ]
    },
    {
      "cell_type": "code",
      "metadata": {
        "colab_type": "code",
        "id": "6VkelaG7xqbY",
        "colab": {}
      },
      "source": [
        "#Importamos librerías útiles\n",
        "import pandas as pd #Es una librería para manipulación de datos\n",
        "import seaborn as sns  #Es una librería para poder hacer nuestros gráficos rápidos y atractivos"
      ],
      "execution_count": 0,
      "outputs": []
    },
    {
      "cell_type": "code",
      "metadata": {
        "colab_type": "code",
        "id": "GnbvxtyiCnAh",
        "colab": {}
      },
      "source": [
        "#Asignamos la variable iris \n",
        "iris = pd.read_csv('https://raw.githubusercontent.com/javalillo13689/hackspace/master/iris.csv')"
      ],
      "execution_count": 0,
      "outputs": []
    },
    {
      "cell_type": "code",
      "metadata": {
        "colab_type": "code",
        "id": "CA2hL-oQCnL-",
        "outputId": "bfcda1ca-1325-4dcb-be21-c92e2f9a4266",
        "colab": {
          "base_uri": "https://localhost:8080/",
          "height": 142
        }
      },
      "source": [
        "#Mostramos los primeros cinco (5) registros del dataset iris con la instrucción head. Este número se muestra por defecto\n",
        "iris.tail(3) "
      ],
      "execution_count": 0,
      "outputs": [
        {
          "output_type": "execute_result",
          "data": {
            "text/html": [
              "<div>\n",
              "<style scoped>\n",
              "    .dataframe tbody tr th:only-of-type {\n",
              "        vertical-align: middle;\n",
              "    }\n",
              "\n",
              "    .dataframe tbody tr th {\n",
              "        vertical-align: top;\n",
              "    }\n",
              "\n",
              "    .dataframe thead th {\n",
              "        text-align: right;\n",
              "    }\n",
              "</style>\n",
              "<table border=\"1\" class=\"dataframe\">\n",
              "  <thead>\n",
              "    <tr style=\"text-align: right;\">\n",
              "      <th></th>\n",
              "      <th>largo_sepalo</th>\n",
              "      <th>ancho_sepalo</th>\n",
              "      <th>largo_petalo</th>\n",
              "      <th>ancho_petalo</th>\n",
              "      <th>tipo_flor</th>\n",
              "    </tr>\n",
              "  </thead>\n",
              "  <tbody>\n",
              "    <tr>\n",
              "      <th>97</th>\n",
              "      <td>7.9</td>\n",
              "      <td>3.8</td>\n",
              "      <td>6.4</td>\n",
              "      <td>2.0</td>\n",
              "      <td>virginica</td>\n",
              "    </tr>\n",
              "    <tr>\n",
              "      <th>98</th>\n",
              "      <td>6.4</td>\n",
              "      <td>2.8</td>\n",
              "      <td>5.6</td>\n",
              "      <td>2.2</td>\n",
              "      <td>virginica</td>\n",
              "    </tr>\n",
              "    <tr>\n",
              "      <th>99</th>\n",
              "      <td>6.3</td>\n",
              "      <td>2.8</td>\n",
              "      <td>5.1</td>\n",
              "      <td>1.5</td>\n",
              "      <td>virginica</td>\n",
              "    </tr>\n",
              "  </tbody>\n",
              "</table>\n",
              "</div>"
            ],
            "text/plain": [
              "    largo_sepalo  ancho_sepalo  largo_petalo  ancho_petalo  tipo_flor\n",
              "97           7.9           3.8           6.4           2.0  virginica\n",
              "98           6.4           2.8           5.6           2.2  virginica\n",
              "99           6.3           2.8           5.1           1.5  virginica"
            ]
          },
          "metadata": {
            "tags": []
          },
          "execution_count": 32
        }
      ]
    },
    {
      "cell_type": "markdown",
      "metadata": {
        "colab_type": "text",
        "id": "pU0jAqkeDpWB"
      },
      "source": [
        "Como resultado hemos obtenido 5 filas con las observaciones de las características de los pétalos y el sépalo.\n",
        "    Hay una columna a la izquierda (**en negrita**) que hace referencia a la posición de cada fila. A esto se le llama index (índice) y nos servirá para ubicar más rápidos nuestros datos. \n",
        "Hay una columna a la derecha denominada *species* que asigna el tipo de flor de cada observación. Esta columna es importante porque será la **variable objetivo** que vamos a predecir o tratar de acercarnos usando el algoritmo de aprendizaje supervisado: KNN (que nos formará clusters)"
      ]
    },
    {
      "cell_type": "code",
      "metadata": {
        "id": "UOnsPcwEPV3E",
        "colab_type": "code",
        "outputId": "b39c034c-ae1f-4379-cf93-7e84a148b6ba",
        "colab": {
          "base_uri": "https://localhost:8080/",
          "height": 297
        }
      },
      "source": [
        "iris.describe()"
      ],
      "execution_count": 0,
      "outputs": [
        {
          "output_type": "execute_result",
          "data": {
            "text/html": [
              "<div>\n",
              "<style scoped>\n",
              "    .dataframe tbody tr th:only-of-type {\n",
              "        vertical-align: middle;\n",
              "    }\n",
              "\n",
              "    .dataframe tbody tr th {\n",
              "        vertical-align: top;\n",
              "    }\n",
              "\n",
              "    .dataframe thead th {\n",
              "        text-align: right;\n",
              "    }\n",
              "</style>\n",
              "<table border=\"1\" class=\"dataframe\">\n",
              "  <thead>\n",
              "    <tr style=\"text-align: right;\">\n",
              "      <th></th>\n",
              "      <th>largo_sepalo</th>\n",
              "      <th>ancho_sepalo</th>\n",
              "      <th>largo_petalo</th>\n",
              "      <th>ancho_petalo</th>\n",
              "    </tr>\n",
              "  </thead>\n",
              "  <tbody>\n",
              "    <tr>\n",
              "      <th>count</th>\n",
              "      <td>100.000000</td>\n",
              "      <td>100.000000</td>\n",
              "      <td>100.000000</td>\n",
              "      <td>100.00000</td>\n",
              "    </tr>\n",
              "    <tr>\n",
              "      <th>mean</th>\n",
              "      <td>5.914000</td>\n",
              "      <td>3.041000</td>\n",
              "      <td>3.851000</td>\n",
              "      <td>1.21300</td>\n",
              "    </tr>\n",
              "    <tr>\n",
              "      <th>std</th>\n",
              "      <td>0.856469</td>\n",
              "      <td>0.439489</td>\n",
              "      <td>1.785378</td>\n",
              "      <td>0.74558</td>\n",
              "    </tr>\n",
              "    <tr>\n",
              "      <th>min</th>\n",
              "      <td>4.300000</td>\n",
              "      <td>2.000000</td>\n",
              "      <td>1.000000</td>\n",
              "      <td>0.10000</td>\n",
              "    </tr>\n",
              "    <tr>\n",
              "      <th>25%</th>\n",
              "      <td>5.175000</td>\n",
              "      <td>2.800000</td>\n",
              "      <td>1.600000</td>\n",
              "      <td>0.37500</td>\n",
              "    </tr>\n",
              "    <tr>\n",
              "      <th>50%</th>\n",
              "      <td>5.850000</td>\n",
              "      <td>3.000000</td>\n",
              "      <td>4.500000</td>\n",
              "      <td>1.40000</td>\n",
              "    </tr>\n",
              "    <tr>\n",
              "      <th>75%</th>\n",
              "      <td>6.500000</td>\n",
              "      <td>3.300000</td>\n",
              "      <td>5.100000</td>\n",
              "      <td>1.80000</td>\n",
              "    </tr>\n",
              "    <tr>\n",
              "      <th>max</th>\n",
              "      <td>7.900000</td>\n",
              "      <td>4.400000</td>\n",
              "      <td>6.900000</td>\n",
              "      <td>2.50000</td>\n",
              "    </tr>\n",
              "  </tbody>\n",
              "</table>\n",
              "</div>"
            ],
            "text/plain": [
              "       largo_sepalo  ancho_sepalo  largo_petalo  ancho_petalo\n",
              "count    100.000000    100.000000    100.000000     100.00000\n",
              "mean       5.914000      3.041000      3.851000       1.21300\n",
              "std        0.856469      0.439489      1.785378       0.74558\n",
              "min        4.300000      2.000000      1.000000       0.10000\n",
              "25%        5.175000      2.800000      1.600000       0.37500\n",
              "50%        5.850000      3.000000      4.500000       1.40000\n",
              "75%        6.500000      3.300000      5.100000       1.80000\n",
              "max        7.900000      4.400000      6.900000       2.50000"
            ]
          },
          "metadata": {
            "tags": []
          },
          "execution_count": 33
        }
      ]
    },
    {
      "cell_type": "code",
      "metadata": {
        "id": "jGl2dcgFPV3H",
        "colab_type": "code",
        "outputId": "baf0c645-e707-4a54-8e44-cc72b9d13967",
        "colab": {
          "base_uri": "https://localhost:8080/",
          "height": 187
        }
      },
      "source": [
        "iris.info()\n",
        "#float, object, integer, hay más..."
      ],
      "execution_count": 0,
      "outputs": [
        {
          "output_type": "stream",
          "text": [
            "<class 'pandas.core.frame.DataFrame'>\n",
            "RangeIndex: 100 entries, 0 to 99\n",
            "Data columns (total 5 columns):\n",
            "largo_sepalo    100 non-null float64\n",
            "ancho_sepalo    100 non-null float64\n",
            "largo_petalo    100 non-null float64\n",
            "ancho_petalo    100 non-null float64\n",
            "tipo_flor       100 non-null object\n",
            "dtypes: float64(4), object(1)\n",
            "memory usage: 4.0+ KB\n"
          ],
          "name": "stdout"
        }
      ]
    },
    {
      "cell_type": "markdown",
      "metadata": {
        "id": "sJZ8urIc8X8e",
        "colab_type": "text"
      },
      "source": [
        "#Gráficando en Python"
      ]
    },
    {
      "cell_type": "markdown",
      "metadata": {
        "id": "2fCiNCQY8ilQ",
        "colab_type": "text"
      },
      "source": [
        "La primera gráfica que realizaremos hoy en clase será la **gráfica de dispersión** que requiere declarar antes **dos variables: x, y**\n",
        "\n",
        "Para ello define dos columnas del dataset iris para graficar"
      ]
    },
    {
      "cell_type": "code",
      "metadata": {
        "id": "R-pX6evBPV3L",
        "colab_type": "code",
        "outputId": "3ebc3e3a-3065-48c3-c5b7-da1241bd98a5",
        "colab": {
          "base_uri": "https://localhost:8080/",
          "height": 297
        }
      },
      "source": [
        "x =iris['ancho_petalo']\n",
        "y= iris['largo_petalo']\n",
        "sns.scatterplot(x, y,data=iris)"
      ],
      "execution_count": 0,
      "outputs": [
        {
          "output_type": "execute_result",
          "data": {
            "text/plain": [
              "<matplotlib.axes._subplots.AxesSubplot at 0x7f6e9da44e80>"
            ]
          },
          "metadata": {
            "tags": []
          },
          "execution_count": 35
        },
        {
          "output_type": "display_data",
          "data": {
            "image/png": "[encoded data removed]",
            "text/plain": [
              "<Figure size 432x288 with 1 Axes>"
            ]
          },
          "metadata": {
            "tags": []
          }
        }
      ]
    },
    {
      "cell_type": "markdown",
      "metadata": {
        "colab_type": "text",
        "id": "iGfLwrP39bXj"
      },
      "source": [
        "La segunda gráfica que realizaremos hoy en clase será la **gráfica de distribución** que requiere declarar antes **solo una variable**\n",
        "\n",
        "Para ello escoge una columna del dataset iris para graficar"
      ]
    },
    {
      "cell_type": "code",
      "metadata": {
        "id": "3siCBk-DPV3N",
        "colab_type": "code",
        "outputId": "4a739c5c-b802-4253-e8aa-f27e370eef0a",
        "colab": {
          "base_uri": "https://localhost:8080/",
          "height": 301
        }
      },
      "source": [
        "#El parámetro bins te permite variar el número de intervalos en la gráfica\n",
        "sns.distplot(iris[\"ancho_petalo\"],bins=5)"
      ],
      "execution_count": 0,
      "outputs": [
        {
          "output_type": "execute_result",
          "data": {
            "text/plain": [
              "<matplotlib.axes._subplots.AxesSubplot at 0x7f6e9abf2cf8>"
            ]
          },
          "metadata": {
            "tags": []
          },
          "execution_count": 38
        },
        {
          "output_type": "display_data",
          "data": {
            "image/png": "[encoded data removed]",
            "text/plain": [
              "<Figure size 432x288 with 1 Axes>"
            ]
          },
          "metadata": {
            "tags": []
          }
        }
      ]
    },
    {
      "cell_type": "markdown",
      "metadata": {
        "colab_type": "text",
        "id": "qpdBMuoEATU0"
      },
      "source": [
        "La tercera gráfica que realizaremos hoy en clase será **pairplot** qu no requiere **declarar ninguna variable**.\n",
        "Además puedes dibujar todas las relaciones entre todas las variables"
      ]
    },
    {
      "cell_type": "code",
      "metadata": {
        "colab_type": "code",
        "id": "0RFgyy0wK93Z",
        "outputId": "87d285a8-f1a2-4400-987d-23efdf6f1256",
        "colab": {
          "base_uri": "https://localhost:8080/",
          "height": 652
        }
      },
      "source": [
        "#El parámetro hue le da nombre a la leyenda del gráfico y el size permite limitar el tamaño del gráfico (mientras más pequeño es más facil ver)\n",
        "sns.pairplot(iris, hue='tipo_flor', size=2.0)"
      ],
      "execution_count": 0,
      "outputs": [
        {
          "output_type": "stream",
          "text": [
            "/usr/local/lib/python3.6/dist-packages/seaborn/axisgrid.py:2065: UserWarning: The `size` parameter has been renamed to `height`; pleaes update your code.\n",
            "  warnings.warn(msg, UserWarning)\n"
          ],
          "name": "stderr"
        },
        {
          "output_type": "execute_result",
          "data": {
            "text/plain": [
              "<seaborn.axisgrid.PairGrid at 0x7f6e9a58a128>"
            ]
          },
          "metadata": {
            "tags": []
          },
          "execution_count": 40
        },
        {
          "output_type": "display_data",
          "data": {
            "image/png": "[encoded data removed]",
            "text/plain": [
              "<Figure size 660.75x576 with 20 Axes>"
            ]
          },
          "metadata": {
            "tags": []
          }
        }
      ]
    },
    {
      "cell_type": "markdown",
      "metadata": {
        "colab_type": "text",
        "id": "0l544dAdz7Zi"
      },
      "source": [
        "# Tratamiento de la Data"
      ]
    },
    {
      "cell_type": "markdown",
      "metadata": {
        "colab_type": "text",
        "id": "POiGyV5d0S61"
      },
      "source": [
        "Identificamos como **variable objetivo** (target) como 'species'. Las demás variables serán las **predictoras** (features) para el modelo. También podemos obtener estadísticos básicos de estas variables."
      ]
    },
    {
      "cell_type": "code",
      "metadata": {
        "colab_type": "code",
        "id": "k8XRz2q3bkpo",
        "colab": {}
      },
      "source": [
        "#Creamos una variable y_iris para guardar la columna species del dataset iris\n",
        "y_iris = iris['tipo_flor']"
      ],
      "execution_count": 0,
      "outputs": []
    },
    {
      "cell_type": "code",
      "metadata": {
        "colab_type": "code",
        "id": "OojkhBcw0DgC",
        "colab": {}
      },
      "source": [
        "#Creamos una variable X_iris para guardar el resultado de eliminar la columna species del dataset iris\n",
        "X_iris = iris.drop('tipo_flor', axis=1) \n",
        "#axis = 1 es para las columnas, axis = 0 es para las filas."
      ],
      "execution_count": 0,
      "outputs": []
    },
    {
      "cell_type": "code",
      "metadata": {
        "colab_type": "code",
        "id": "9JkThrAT0Pwi",
        "outputId": "30745f44-c44a-4227-ec29-e3e51e521b27",
        "colab": {
          "base_uri": "https://localhost:8080/",
          "height": 34
        }
      },
      "source": [
        "#Para visualizar el tamaño del dataset utilizamos el método shape, como resultado obtenemos el números de filas y columnas (en este orden)\n",
        "X_iris.shape"
      ],
      "execution_count": 0,
      "outputs": [
        {
          "output_type": "execute_result",
          "data": {
            "text/plain": [
              "(100, 4)"
            ]
          },
          "metadata": {
            "tags": []
          },
          "execution_count": 44
        }
      ]
    },
    {
      "cell_type": "markdown",
      "metadata": {
        "colab_type": "text",
        "id": "_BUDr5Ek0LA0"
      },
      "source": [
        "Estos descriptivos verifican que las cuatro variables almacenan **150 observaciones**, todas ellas con datos numéricos. Para este ejemplo no contamos con datos *categóricos* (no numéricos) y tampoco aparecen vacíos o errores. Sobre el tratamiento de este tipo de datos profundizaremos en las siguientes sesiones de clase"
      ]
    },
    {
      "cell_type": "markdown",
      "metadata": {
        "id": "Y8nS8JjwPV3t",
        "colab_type": "text"
      },
      "source": [
        "## Haremos PCA para poder ver que una clusterización te agrupa de manera intuitiva los targets.\n"
      ]
    },
    {
      "cell_type": "markdown",
      "metadata": {
        "colab_type": "text",
        "id": "T8kynYVM5npv"
      },
      "source": [
        "Para aplicar el modelo de *clustering* vamos a realizar una **reducción de dimensionalidad** donde las variables predictoras se reducen a solo dos (2) PCA -que son las iniciales de *Principal Component Analysis*- de esta manera vamos a visualizar el dataset iris en función de solo dos *nuevas variables predictoras* denominadas PCA1 y PCA2"
      ]
    },
    {
      "cell_type": "code",
      "metadata": {
        "colab_type": "code",
        "id": "JA7LzYPC5KyD",
        "colab": {}
      },
      "source": [
        "#Importamos la librería PCA\n",
        "from sklearn.decomposition import PCA\n",
        "\n",
        "#Creamos  una variable feature_pca para asignar PCA, definimos el valor de n_components para limitar a dos las variables finales\n",
        "features_pca = PCA(n_components=2)"
      ],
      "execution_count": 0,
      "outputs": []
    },
    {
      "cell_type": "code",
      "metadata": {
        "colab_type": "code",
        "id": "b_LAI87nHAge",
        "colab": {}
      },
      "source": [
        "#Adaptamos la variable creada feature_pca con la data guardada en X_iris\n",
        "features_pca.fit(X_iris)\n",
        "\n",
        "#Creamos una variable X_2D para guardar este último cambio\n",
        "X_2D = features_pca.transform(X_iris)"
      ],
      "execution_count": 0,
      "outputs": []
    },
    {
      "cell_type": "code",
      "metadata": {
        "id": "5IJHHr0ePV35",
        "colab_type": "code",
        "outputId": "779faec7-9b8b-4967-f887-a04ccc61a664",
        "colab": {
          "base_uri": "https://localhost:8080/",
          "height": 1000
        }
      },
      "source": [
        "print(X_2D)"
      ],
      "execution_count": 0,
      "outputs": [
        {
          "output_type": "stream",
          "text": [
            "[[-2.79388723  0.31773453]\n",
            " [-2.82498165 -0.16977798]\n",
            " [-3.00183191 -0.14737925]\n",
            " [-2.85862741 -0.32040471]\n",
            " [-2.8394125   0.32023224]\n",
            " [-2.39061534  0.72672501]\n",
            " [-2.9354961  -0.10383377]\n",
            " [-2.73648245  0.16211238]\n",
            " [-3.00121703 -0.57943909]\n",
            " [-2.78237359 -0.10491582]\n",
            " [-2.6143375   0.64462947]\n",
            " [-2.72460294  0.00898794]\n",
            " [-2.89656827 -0.22573135]\n",
            " [-3.33876799 -0.51282425]\n",
            " [-2.74959173  1.17935649]\n",
            " [-2.49416027  1.31690471]\n",
            " [-2.73381426  0.79633825]\n",
            " [-2.75926072  0.30582733]\n",
            " [-2.30579637  0.87185563]\n",
            " [-2.69915647  0.49949885]\n",
            " [-2.41704256  0.39874802]\n",
            " [-2.6559648   0.41723338]\n",
            " [-3.33045184  0.11840322]\n",
            " [-2.4154782   0.08908645]\n",
            " [-2.46720375 -0.04322199]\n",
            " [-2.61642209 -0.13672404]\n",
            " [-2.58142971  0.12089467]\n",
            " [-2.6711274   0.36819179]\n",
            " [-2.74836197  0.31523682]\n",
            " [-2.74443273 -0.19958918]\n",
            " [-2.69890746 -0.20208689]\n",
            " [-2.519389    0.40974024]\n",
            " [ 1.18095943  0.67881484]\n",
            " [ 0.82222584  0.29455087]\n",
            " [ 1.35879045  0.49388218]\n",
            " [ 0.06841964 -0.83858777]\n",
            " [ 0.97924631  0.06357502]\n",
            " [ 0.5285127  -0.4380918 ]\n",
            " [ 0.98292654  0.25033476]\n",
            " [-0.86638379 -1.01784812]\n",
            " [ 0.93838824  0.22560826]\n",
            " [-0.12789454 -0.75524024]\n",
            " [-0.62356359 -1.26622728]\n",
            " [ 0.39715643 -0.13325858]\n",
            " [ 0.15790581 -0.53392162]\n",
            " [ 0.87401394 -0.14300508]\n",
            " [-0.28921012 -0.2789643 ]\n",
            " [ 0.82124508  0.4570848 ]\n",
            " [ 0.54367529 -0.38905021]\n",
            " [ 0.12695953 -0.33525468]\n",
            " [ 0.83395721 -0.54475303]\n",
            " [-0.06680331 -0.58879294]\n",
            " [ 0.99870401 -0.13268348]\n",
            " [ 0.24735449 -0.07963299]\n",
            " [ 1.18842076 -0.33543087]\n",
            " [ 0.81332608 -0.18954896]\n",
            " [ 0.60706884  0.14209705]\n",
            " [ 0.79285013  0.31886595]\n",
            " [ 1.22709958  0.24425729]\n",
            " [ 1.44848814  0.24658506]\n",
            " [ 0.70008088 -0.18796622]\n",
            " [-0.41623379 -0.36905366]\n",
            " [-0.18099799 -0.70960847]\n",
            " [-0.30142423 -0.68029796]\n",
            " [ 0.02461309 -0.32426245]\n",
            " [ 1.26663608 -0.44500983]\n",
            " [ 2.40996158 -0.08307305]\n",
            " [ 1.29659539 -0.61645256]\n",
            " [ 2.50703216  0.31376874]\n",
            " [ 1.85863774 -0.21154253]\n",
            " [ 2.23409829 -0.08789854]\n",
            " [ 3.2924308   0.5312484 ]\n",
            " [ 0.39703335 -1.23967995]\n",
            " [ 2.82883692  0.34523996]\n",
            " [ 2.21233827 -0.25633999]\n",
            " [ 2.8027068   0.72134355]\n",
            " [ 1.54711686  0.19845558]\n",
            " [ 1.68995549 -0.24409579]\n",
            " [ 2.05295292  0.17980029]\n",
            " [ 1.22559238 -0.81953357]\n",
            " [ 1.46116278 -0.60563028]\n",
            " [ 1.78563573  0.0600668 ]\n",
            " [ 1.83819307  0.01194019]\n",
            " [ 3.38129587  1.13266467]\n",
            " [ 3.69030374  0.24165154]\n",
            " [ 1.18903564 -0.76749071]\n",
            " [ 2.31363519  0.32975639]\n",
            " [ 1.07713707 -0.658916  ]\n",
            " [ 3.39769444  0.45289631]\n",
            " [ 1.27516996 -0.23043592]\n",
            " [ 2.16189679  0.28820793]\n",
            " [ 2.50878215  0.54066415]\n",
            " [ 1.14384497 -0.2105349 ]\n",
            " [ 1.17555427 -0.15508222]\n",
            " [ 2.00804254 -0.24976184]\n",
            " [ 2.28505999  0.45856861]\n",
            " [ 2.73738924  0.36564167]\n",
            " [ 3.12856388  1.34441013]\n",
            " [ 2.04266905 -0.26166904]\n",
            " [ 1.33432474 -0.15916266]]\n"
          ],
          "name": "stdout"
        }
      ]
    },
    {
      "cell_type": "markdown",
      "metadata": {
        "colab_type": "text",
        "id": "M0Mj75DOCK3R"
      },
      "source": [
        "Añadimos al dataset iris las dos dimensiones ya obtenidas: PCA 1 y PCA 2"
      ]
    },
    {
      "cell_type": "code",
      "metadata": {
        "colab_type": "code",
        "id": "PlfmIqB4CBYV",
        "colab": {}
      },
      "source": [
        "#Añadimmos una columna denominada PCA1 al dataset iris usando la columna 0 de la variable X_2D, es decir la primera columna contando de izquierda a derecha\n",
        "iris['PCA1'] = X_2D[:, 0]\n",
        "\n",
        "#Añadimmos una columna denominada PCA2 al dataset iris usando la columna 1 de la variable X_2D, es decir la segunda columna contando de izquierda a derecha\n",
        "iris['PCA2'] = X_2D[:, 1]"
      ],
      "execution_count": 0,
      "outputs": []
    },
    {
      "cell_type": "markdown",
      "metadata": {
        "colab_type": "text",
        "id": "2FS9Kn24zp8w"
      },
      "source": [
        "# Selección y preparación del modelo"
      ]
    },
    {
      "cell_type": "markdown",
      "metadata": {
        "colab_type": "text",
        "id": "eonVeo5O0BiQ"
      },
      "source": [
        "Ahora vamos a seleccionar un **modelo de clustering o agrupamiento** denominado *Kmeans*. Este modelo lo vamos a adaptar con las nuevas dos dimensiones que obtuvimos a partir de X_iris (PCA1, PCA2). Ambas variables están guardadas en X_2D"
      ]
    },
    {
      "cell_type": "code",
      "metadata": {
        "colab_type": "code",
        "id": "tpNu_u9lJSRc",
        "colab": {}
      },
      "source": [
        "#Importamos la librería KMeans\n",
        "from sklearn.cluster import KMeans\n",
        "\n",
        "#Creamos una variable kmeans para guardar el modelo Kmeans\n",
        "#Definimos los parámetros n_clusters para limitar solo tres agrupamientos, también podemos definir el máximo de iteraciones con max_iter\n",
        "kmeans = KMeans(n_clusters=3, max_iter=600)"
      ],
      "execution_count": 0,
      "outputs": []
    },
    {
      "cell_type": "code",
      "metadata": {
        "colab_type": "code",
        "id": "ZjdyAlZnKpTB",
        "colab": {}
      },
      "source": [
        "#Perfilamos el modelo kmeans con los datos guardados en X_2D\n",
        "kmeans = kmeans.fit(X_iris)"
      ],
      "execution_count": 0,
      "outputs": []
    },
    {
      "cell_type": "code",
      "metadata": {
        "colab_type": "code",
        "id": "F3cjoBo-Kpgw",
        "colab": {}
      },
      "source": [
        "#Creamos una variable predicciones para obtener las predicciones usando el modelo kmeans a partir de los datos guardados en X_2D\n",
        "predicciones = kmeans.predict(X_iris)"
      ],
      "execution_count": 0,
      "outputs": []
    },
    {
      "cell_type": "code",
      "metadata": {
        "id": "CSzFkytOPV4c",
        "colab_type": "code",
        "outputId": "f8abe0a4-8ac2-4ca3-e101-5730b7b4135f",
        "colab": {
          "base_uri": "https://localhost:8080/",
          "height": 102
        }
      },
      "source": [
        "predicciones"
      ],
      "execution_count": 0,
      "outputs": [
        {
          "output_type": "execute_result",
          "data": {
            "text/plain": [
              "array([0, 0, 0, 0, 0, 0, 0, 0, 0, 0, 0, 0, 0, 0, 0, 0, 0, 0, 0, 0, 0, 0,\n",
              "       0, 0, 0, 0, 0, 0, 0, 0, 0, 0, 1, 1, 1, 1, 1, 1, 1, 1, 1, 1, 1, 1,\n",
              "       1, 1, 1, 1, 1, 1, 1, 1, 1, 1, 1, 1, 1, 1, 1, 1, 1, 1, 1, 1, 1, 1,\n",
              "       2, 1, 2, 2, 2, 2, 1, 2, 2, 2, 2, 2, 2, 1, 1, 2, 2, 2, 2, 1, 2, 1,\n",
              "       2, 1, 2, 2, 1, 1, 2, 2, 2, 2, 2, 1], dtype=int32)"
            ]
          },
          "metadata": {
            "tags": []
          },
          "execution_count": 53
        }
      ]
    },
    {
      "cell_type": "code",
      "metadata": {
        "colab_type": "code",
        "id": "XqE8cak9HIJi",
        "outputId": "f420032e-c128-4a18-9290-8a10aa13db51",
        "colab": {
          "base_uri": "https://localhost:8080/",
          "height": 296
        }
      },
      "source": [
        "x =iris['PCA1']\n",
        "y= iris['PCA2']\n",
        "sns.scatterplot(x, y,hue='tipo_flor',data=iris)"
      ],
      "execution_count": 0,
      "outputs": [
        {
          "output_type": "execute_result",
          "data": {
            "text/plain": [
              "<matplotlib.axes._subplots.AxesSubplot at 0x7f6e92b972e8>"
            ]
          },
          "metadata": {
            "tags": []
          },
          "execution_count": 49
        },
        {
          "output_type": "display_data",
          "data": {
            "image/png": "[encoded data removed]",
            "text/plain": [
              "<Figure size 432x288 with 1 Axes>"
            ]
          },
          "metadata": {
            "tags": []
          }
        }
      ]
    },
    {
      "cell_type": "code",
      "metadata": {
        "id": "o0Gk_iVxC8kj",
        "colab_type": "code",
        "outputId": "fd106752-59e7-4bf5-da58-109dd051d4f2",
        "colab": {
          "base_uri": "https://localhost:8080/",
          "height": 296
        }
      },
      "source": [
        "iris['predicciones'] = predicciones\n",
        "sns.scatterplot(x = 'PCA1', y = 'PCA2', hue = 'predicciones',data = iris)"
      ],
      "execution_count": 0,
      "outputs": [
        {
          "output_type": "execute_result",
          "data": {
            "text/plain": [
              "<matplotlib.axes._subplots.AxesSubplot at 0x7f6e901f0550>"
            ]
          },
          "metadata": {
            "tags": []
          },
          "execution_count": 54
        },
        {
          "output_type": "display_data",
          "data": {
            "image/png": "[encoded data removed]",
            "text/plain": [
              "<Figure size 432x288 with 1 Axes>"
            ]
          },
          "metadata": {
            "tags": []
          }
        }
      ]
    },
    {
      "cell_type": "markdown",
      "metadata": {
        "id": "_e-5dGaEp68j",
        "colab_type": "text"
      },
      "source": [
        "# KModes #\n",
        " Es usado para el clustering (agrupamiento) de variables categoricas ( tipo texto ). Define los clusters basados en el numero de categorias coincidentes con el centroide o centro de masa de los datos punteados asociado."
      ]
    },
    {
      "cell_type": "code",
      "metadata": {
        "id": "HZw_p5CYOmnb",
        "colab_type": "code",
        "outputId": "98e02e38-4181-4b1e-fda7-50b439b3a949",
        "colab": {
          "base_uri": "https://localhost:8080/",
          "height": 159
        }
      },
      "source": [
        "#Instalamos el modulo de kmodes\n",
        "pip install kmodes "
      ],
      "execution_count": 3,
      "outputs": [
        {
          "output_type": "stream",
          "text": [
            "Collecting kmodes\n",
            "  Downloading https://files.pythonhosted.org/packages/79/c0/f7d8a0eb41ac6f302b4bc100f91b6e0f2558425ccfefaa0ec0430f77ee97/kmodes-0.10.1-py2.py3-none-any.whl\n",
            "Requirement already satisfied: numpy>=1.10.4 in /usr/local/lib/python3.6/dist-packages (from kmodes) (1.17.4)\n",
            "Requirement already satisfied: scipy>=0.13.3 in /usr/local/lib/python3.6/dist-packages (from kmodes) (1.3.2)\n",
            "Requirement already satisfied: joblib>=0.11 in /usr/local/lib/python3.6/dist-packages (from kmodes) (0.14.0)\n",
            "Requirement already satisfied: scikit-learn>=0.19.0 in /usr/local/lib/python3.6/dist-packages (from kmodes) (0.21.3)\n",
            "Installing collected packages: kmodes\n",
            "Successfully installed kmodes-0.10.1\n"
          ],
          "name": "stdout"
        }
      ]
    },
    {
      "cell_type": "code",
      "metadata": {
        "id": "XPvL-8ExOpS7",
        "colab_type": "code",
        "colab": {}
      },
      "source": [
        "#Importamos las librerias necesarias\n",
        "#Numpy y panda para manipulacion de dataframes y uso de arrays\n",
        "import numpy as np\n",
        "import pandas as pd\n",
        "#KModes para usar la implementacion del algoritmo en si\n",
        "from kmodes.kmodes import KModes"
      ],
      "execution_count": 0,
      "outputs": []
    },
    {
      "cell_type": "code",
      "metadata": {
        "id": "yVRizKBOOrS9",
        "colab_type": "code",
        "colab": {}
      },
      "source": [
        "#La instancia km de KModes la establecemos con los siguientes parametros:\n",
        "#n_clusters : numero entero de clusters a determinar\n",
        "#init       : tipo de metodo para inicializar : 'Huang' , 'Cao' , 'random' (aleatorio)\n",
        "#n_init     : numero entero de veces que correra el algoritmo cambiando el centroide\n",
        "#             de las cuales se desplegara la mejor salida en terminos de costo\n",
        "km=KModes(n_clusters=3,init='Huang',n_init=5)"
      ],
      "execution_count": 0,
      "outputs": []
    },
    {
      "cell_type": "code",
      "metadata": {
        "id": "sS9ZIAmuO3d2",
        "colab_type": "code",
        "colab": {}
      },
      "source": [
        "#Leeemos el archivo people.csv \n",
        "X_test=pd.read_csv('https://raw.githubusercontent.com/javalillo13689/hackspace/master/people.csv')"
      ],
      "execution_count": 0,
      "outputs": []
    },
    {
      "cell_type": "code",
      "metadata": {
        "id": "-skngGYvkYbA",
        "colab_type": "code",
        "outputId": "4a81df7f-4bc5-4388-b4e2-ad96f2bb9d1f",
        "colab": {
          "base_uri": "https://localhost:8080/",
          "height": 135
        }
      },
      "source": [
        "#Mostramos las primeras 3 filas de la data\n",
        "X_test.head(3)"
      ],
      "execution_count": 7,
      "outputs": [
        {
          "output_type": "execute_result",
          "data": {
            "text/html": [
              "<div>\n",
              "<style scoped>\n",
              "    .dataframe tbody tr th:only-of-type {\n",
              "        vertical-align: middle;\n",
              "    }\n",
              "\n",
              "    .dataframe tbody tr th {\n",
              "        vertical-align: top;\n",
              "    }\n",
              "\n",
              "    .dataframe thead th {\n",
              "        text-align: right;\n",
              "    }\n",
              "</style>\n",
              "<table border=\"1\" class=\"dataframe\">\n",
              "  <thead>\n",
              "    <tr style=\"text-align: right;\">\n",
              "      <th></th>\n",
              "      <th>SEXO</th>\n",
              "      <th>UNIVERSIDAD</th>\n",
              "      <th>PERFIL</th>\n",
              "      <th>CARRERA</th>\n",
              "      <th>POSICION</th>\n",
              "      <th>ESPECIALIZACION_DATA SCIENCE</th>\n",
              "      <th>DIA_PREFERIDO</th>\n",
              "    </tr>\n",
              "  </thead>\n",
              "  <tbody>\n",
              "    <tr>\n",
              "      <th>0</th>\n",
              "      <td>F</td>\n",
              "      <td>ULIMA</td>\n",
              "      <td>JOVEN</td>\n",
              "      <td>ADMINISTRACION</td>\n",
              "      <td>ANALISTA</td>\n",
              "      <td>NO</td>\n",
              "      <td>SABADO</td>\n",
              "    </tr>\n",
              "    <tr>\n",
              "      <th>1</th>\n",
              "      <td>M</td>\n",
              "      <td>OTROS</td>\n",
              "      <td>ADULTO</td>\n",
              "      <td>ADMINISTRACION</td>\n",
              "      <td>NaN</td>\n",
              "      <td>NO</td>\n",
              "      <td>VIERNES</td>\n",
              "    </tr>\n",
              "    <tr>\n",
              "      <th>2</th>\n",
              "      <td>M</td>\n",
              "      <td>OTROS</td>\n",
              "      <td>ADULTO</td>\n",
              "      <td>ADMINISTRACION</td>\n",
              "      <td>OTROS</td>\n",
              "      <td>NO</td>\n",
              "      <td>VIERNES</td>\n",
              "    </tr>\n",
              "  </tbody>\n",
              "</table>\n",
              "</div>"
            ],
            "text/plain": [
              "  SEXO UNIVERSIDAD  PERFIL  ...  POSICION ESPECIALIZACION_DATA SCIENCE DIA_PREFERIDO\n",
              "0    F       ULIMA   JOVEN  ...  ANALISTA                           NO        SABADO\n",
              "1    M       OTROS  ADULTO  ...       NaN                           NO       VIERNES\n",
              "2    M       OTROS  ADULTO  ...     OTROS                           NO       VIERNES\n",
              "\n",
              "[3 rows x 7 columns]"
            ]
          },
          "metadata": {
            "tags": []
          },
          "execution_count": 7
        }
      ]
    },
    {
      "cell_type": "code",
      "metadata": {
        "id": "-BwysSH-PGSe",
        "colab_type": "code",
        "colab": {}
      },
      "source": [
        "#Dado que observamos en la fila 2 en la columna posicion un valor NaN procedemos a eliminarlo\n",
        "#en este caso ya que son datos perdidos o vacios que nos llevarian al error\n",
        "\n",
        "#Para elimianar las filas con valores nulos usamos el metodo dropna\n",
        "#inplace=True nos dice que incluya los cambios en la tabla X_test , de otro modo solo lo muestra\n",
        "#más no lo modifica\n",
        "X_test.dropna(inplace=True)\n",
        "#Debido a la eliminación de las filas con valores nulos el indice se encuentra desordenado\n",
        "#Para reiniciar los indices y mantener el orden de estos\n",
        "X_test.reset_index(drop=True,inplace=True)"
      ],
      "execution_count": 0,
      "outputs": []
    },
    {
      "cell_type": "code",
      "metadata": {
        "id": "cnigGcEcPNjg",
        "colab_type": "code",
        "colab": {}
      },
      "source": [
        "#Renombramos la data como data_kmodes(No obligatorio, se puede seguir usando X_test)\n",
        "data_kmodes=X_test\n",
        "#Mediante el metodo fit_predict ingresamos el dataframe data_kmodes para obtener\n",
        "#los valores del cluster al cual pertenece cada fila\n",
        "clusters=km.fit_predict(data_kmodes)"
      ],
      "execution_count": 0,
      "outputs": []
    },
    {
      "cell_type": "code",
      "metadata": {
        "id": "_eq_2fbyPUKq",
        "colab_type": "code",
        "colab": {}
      },
      "source": [
        "#A nuestro dataframe le agregamos una columna mas llamada cluster a la cual le asignamos\n",
        "#los valores obtenidos en la celda anterior\n",
        "X_test['cluster']=clusters"
      ],
      "execution_count": 0,
      "outputs": []
    },
    {
      "cell_type": "code",
      "metadata": {
        "id": "djpaVki9PVek",
        "colab_type": "code",
        "outputId": "c54eae40-ccf0-43a3-ac9d-3bc7ae3130be",
        "colab": {
          "base_uri": "https://localhost:8080/",
          "height": 399
        }
      },
      "source": [
        "#Visualizamos a la izquierda del dataframe que se ha añido la columna cluster con\n",
        "#valores del 0 al 2 que seria el identificador para cada cluster\n",
        "display(X_test)"
      ],
      "execution_count": 20,
      "outputs": [
        {
          "output_type": "display_data",
          "data": {
            "text/html": [
              "<div>\n",
              "<style scoped>\n",
              "    .dataframe tbody tr th:only-of-type {\n",
              "        vertical-align: middle;\n",
              "    }\n",
              "\n",
              "    .dataframe tbody tr th {\n",
              "        vertical-align: top;\n",
              "    }\n",
              "\n",
              "    .dataframe thead th {\n",
              "        text-align: right;\n",
              "    }\n",
              "</style>\n",
              "<table border=\"1\" class=\"dataframe\">\n",
              "  <thead>\n",
              "    <tr style=\"text-align: right;\">\n",
              "      <th></th>\n",
              "      <th>SEXO</th>\n",
              "      <th>UNIVERSIDAD</th>\n",
              "      <th>PERFIL</th>\n",
              "      <th>CARRERA</th>\n",
              "      <th>POSICION</th>\n",
              "      <th>ESPECIALIZACION_DATA SCIENCE</th>\n",
              "      <th>DIA_PREFERIDO</th>\n",
              "      <th>cluster</th>\n",
              "    </tr>\n",
              "  </thead>\n",
              "  <tbody>\n",
              "    <tr>\n",
              "      <th>0</th>\n",
              "      <td>F</td>\n",
              "      <td>ULIMA</td>\n",
              "      <td>JOVEN</td>\n",
              "      <td>ADMINISTRACION</td>\n",
              "      <td>ANALISTA</td>\n",
              "      <td>NO</td>\n",
              "      <td>SABADO</td>\n",
              "      <td>1</td>\n",
              "    </tr>\n",
              "    <tr>\n",
              "      <th>1</th>\n",
              "      <td>M</td>\n",
              "      <td>OTROS</td>\n",
              "      <td>ADULTO</td>\n",
              "      <td>ADMINISTRACION</td>\n",
              "      <td>OTROS</td>\n",
              "      <td>NO</td>\n",
              "      <td>VIERNES</td>\n",
              "      <td>0</td>\n",
              "    </tr>\n",
              "    <tr>\n",
              "      <th>2</th>\n",
              "      <td>M</td>\n",
              "      <td>OTROS</td>\n",
              "      <td>ADULTO</td>\n",
              "      <td>ADMINISTRACION</td>\n",
              "      <td>OTROS</td>\n",
              "      <td>NO</td>\n",
              "      <td>VIERNES</td>\n",
              "      <td>0</td>\n",
              "    </tr>\n",
              "    <tr>\n",
              "      <th>3</th>\n",
              "      <td>F</td>\n",
              "      <td>SAN MARCOS</td>\n",
              "      <td>JOVEN</td>\n",
              "      <td>CIENCIAS PURAS</td>\n",
              "      <td>ESTUDIANTE</td>\n",
              "      <td>NO</td>\n",
              "      <td>SABADO</td>\n",
              "      <td>1</td>\n",
              "    </tr>\n",
              "    <tr>\n",
              "      <th>4</th>\n",
              "      <td>M</td>\n",
              "      <td>SAN MARCOS</td>\n",
              "      <td>JOVEN</td>\n",
              "      <td>CIENCIAS PURAS</td>\n",
              "      <td>OTROS</td>\n",
              "      <td>NO</td>\n",
              "      <td>SABADO</td>\n",
              "      <td>1</td>\n",
              "    </tr>\n",
              "    <tr>\n",
              "      <th>...</th>\n",
              "      <td>...</td>\n",
              "      <td>...</td>\n",
              "      <td>...</td>\n",
              "      <td>...</td>\n",
              "      <td>...</td>\n",
              "      <td>...</td>\n",
              "      <td>...</td>\n",
              "      <td>...</td>\n",
              "    </tr>\n",
              "    <tr>\n",
              "      <th>110</th>\n",
              "      <td>M</td>\n",
              "      <td>OTROS</td>\n",
              "      <td>ADULTO</td>\n",
              "      <td>OTRA INGENIERIA</td>\n",
              "      <td>LIDER</td>\n",
              "      <td>NO</td>\n",
              "      <td>SABADO</td>\n",
              "      <td>0</td>\n",
              "    </tr>\n",
              "    <tr>\n",
              "      <th>111</th>\n",
              "      <td>F</td>\n",
              "      <td>PUCP</td>\n",
              "      <td>JOVEN</td>\n",
              "      <td>OTRA INGENIERIA</td>\n",
              "      <td>OTROS</td>\n",
              "      <td>NO</td>\n",
              "      <td>VIERNES</td>\n",
              "      <td>0</td>\n",
              "    </tr>\n",
              "    <tr>\n",
              "      <th>112</th>\n",
              "      <td>M</td>\n",
              "      <td>UNI</td>\n",
              "      <td>JOVEN</td>\n",
              "      <td>OTRA INGENIERIA</td>\n",
              "      <td>LIDER</td>\n",
              "      <td>NO</td>\n",
              "      <td>VIERNES</td>\n",
              "      <td>0</td>\n",
              "    </tr>\n",
              "    <tr>\n",
              "      <th>113</th>\n",
              "      <td>M</td>\n",
              "      <td>OTROS</td>\n",
              "      <td>JOVEN</td>\n",
              "      <td>OTRA INGENIERIA</td>\n",
              "      <td>ESTUDIANTE</td>\n",
              "      <td>NO</td>\n",
              "      <td>VIERNES</td>\n",
              "      <td>0</td>\n",
              "    </tr>\n",
              "    <tr>\n",
              "      <th>114</th>\n",
              "      <td>M</td>\n",
              "      <td>SAN MARCOS</td>\n",
              "      <td>JOVEN</td>\n",
              "      <td>OTRA INGENIERIA</td>\n",
              "      <td>OTROS</td>\n",
              "      <td>NO</td>\n",
              "      <td>VIERNES</td>\n",
              "      <td>0</td>\n",
              "    </tr>\n",
              "  </tbody>\n",
              "</table>\n",
              "<p>115 rows × 8 columns</p>\n",
              "</div>"
            ],
            "text/plain": [
              "    SEXO UNIVERSIDAD  ... DIA_PREFERIDO cluster\n",
              "0      F       ULIMA  ...        SABADO       1\n",
              "1      M       OTROS  ...       VIERNES       0\n",
              "2      M       OTROS  ...       VIERNES       0\n",
              "3      F  SAN MARCOS  ...        SABADO       1\n",
              "4      M  SAN MARCOS  ...        SABADO       1\n",
              "..   ...         ...  ...           ...     ...\n",
              "110    M       OTROS  ...        SABADO       0\n",
              "111    F        PUCP  ...       VIERNES       0\n",
              "112    M         UNI  ...       VIERNES       0\n",
              "113    M       OTROS  ...       VIERNES       0\n",
              "114    M  SAN MARCOS  ...       VIERNES       0\n",
              "\n",
              "[115 rows x 8 columns]"
            ]
          },
          "metadata": {
            "tags": []
          }
        }
      ]
    },
    {
      "cell_type": "code",
      "metadata": {
        "id": "o4o_EQm93rRt",
        "colab_type": "code",
        "colab": {}
      },
      "source": [
        ""
      ],
      "execution_count": 0,
      "outputs": []
    }
  ]
}